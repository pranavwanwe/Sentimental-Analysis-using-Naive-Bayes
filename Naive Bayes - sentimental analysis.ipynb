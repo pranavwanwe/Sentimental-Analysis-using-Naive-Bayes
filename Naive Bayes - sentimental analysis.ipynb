{
 "cells": [
  {
   "cell_type": "code",
   "execution_count": 1,
   "id": "158cc375",
   "metadata": {},
   "outputs": [],
   "source": [
    "import pandas as pd"
   ]
  },
  {
   "cell_type": "code",
   "execution_count": 4,
   "id": "96f10203",
   "metadata": {},
   "outputs": [],
   "source": [
    "mydf = pd.read_csv(r\"C:\\users\\pranav\\downloads\\imdb_labelled.txt\",\n",
    "                  delimiter=\"\\t\", header=None)"
   ]
  },
  {
   "cell_type": "code",
   "execution_count": 8,
   "id": "5c54a882",
   "metadata": {},
   "outputs": [
    {
     "data": {
      "text/html": [
       "<div>\n",
       "<style scoped>\n",
       "    .dataframe tbody tr th:only-of-type {\n",
       "        vertical-align: middle;\n",
       "    }\n",
       "\n",
       "    .dataframe tbody tr th {\n",
       "        vertical-align: top;\n",
       "    }\n",
       "\n",
       "    .dataframe thead th {\n",
       "        text-align: right;\n",
       "    }\n",
       "</style>\n",
       "<table border=\"1\" class=\"dataframe\">\n",
       "  <thead>\n",
       "    <tr style=\"text-align: right;\">\n",
       "      <th></th>\n",
       "      <th>Review</th>\n",
       "      <th>Sentiment</th>\n",
       "    </tr>\n",
       "  </thead>\n",
       "  <tbody>\n",
       "    <tr>\n",
       "      <th>0</th>\n",
       "      <td>A very, very, very slow-moving, aimless movie ...</td>\n",
       "      <td>0</td>\n",
       "    </tr>\n",
       "    <tr>\n",
       "      <th>1</th>\n",
       "      <td>Not sure who was more lost - the flat characte...</td>\n",
       "      <td>0</td>\n",
       "    </tr>\n",
       "    <tr>\n",
       "      <th>2</th>\n",
       "      <td>Attempting artiness with black &amp; white and cle...</td>\n",
       "      <td>0</td>\n",
       "    </tr>\n",
       "    <tr>\n",
       "      <th>3</th>\n",
       "      <td>Very little music or anything to speak of.</td>\n",
       "      <td>0</td>\n",
       "    </tr>\n",
       "    <tr>\n",
       "      <th>4</th>\n",
       "      <td>The best scene in the movie was when Gerardo i...</td>\n",
       "      <td>1</td>\n",
       "    </tr>\n",
       "  </tbody>\n",
       "</table>\n",
       "</div>"
      ],
      "text/plain": [
       "                                              Review  Sentiment\n",
       "0  A very, very, very slow-moving, aimless movie ...          0\n",
       "1  Not sure who was more lost - the flat characte...          0\n",
       "2  Attempting artiness with black & white and cle...          0\n",
       "3       Very little music or anything to speak of.            0\n",
       "4  The best scene in the movie was when Gerardo i...          1"
      ]
     },
     "execution_count": 8,
     "metadata": {},
     "output_type": "execute_result"
    }
   ],
   "source": [
    "mydf.columns=[\"Review\", \"Sentiment\"]\n",
    "mydf.head()\n",
    "# 0-->negative\n",
    "# 1-->positive"
   ]
  },
  {
   "cell_type": "code",
   "execution_count": 9,
   "id": "4edd9e54",
   "metadata": {},
   "outputs": [
    {
     "data": {
      "text/plain": [
       "(748, 2)"
      ]
     },
     "execution_count": 9,
     "metadata": {},
     "output_type": "execute_result"
    }
   ],
   "source": [
    "mydf.shape"
   ]
  },
  {
   "cell_type": "code",
   "execution_count": 10,
   "id": "f2f2ef3e",
   "metadata": {},
   "outputs": [],
   "source": [
    "X = mydf.values[:,0]\n",
    "Y = mydf.values[:,1]\n",
    "Y=Y.astype(int)"
   ]
  },
  {
   "cell_type": "code",
   "execution_count": 11,
   "id": "4fcde485",
   "metadata": {},
   "outputs": [],
   "source": [
    "from sklearn.feature_extraction.text import CountVectorizer\n",
    "\n",
    "cv= CountVectorizer()\n",
    "cv.fit(X)\n",
    "X=cv.transform(X)"
   ]
  },
  {
   "cell_type": "code",
   "execution_count": 12,
   "id": "c2f63290",
   "metadata": {},
   "outputs": [
    {
     "data": {
      "text/plain": [
       "(748, 3047)"
      ]
     },
     "execution_count": 12,
     "metadata": {},
     "output_type": "execute_result"
    }
   ],
   "source": [
    "X.shape"
   ]
  },
  {
   "cell_type": "code",
   "execution_count": 13,
   "id": "efc853e0",
   "metadata": {
    "scrolled": true
   },
   "outputs": [
    {
     "name": "stdout",
     "output_type": "stream",
     "text": [
      "  (0, 37)\t1\n",
      "  (0, 92)\t1\n",
      "  (0, 748)\t1\n",
      "  (0, 786)\t1\n",
      "  (0, 1639)\t1\n",
      "  (0, 1748)\t1\n",
      "  (0, 1750)\t1\n",
      "  (0, 2404)\t1\n",
      "  (0, 2871)\t3\n",
      "  (0, 3037)\t1\n",
      "  (1, 196)\t1\n",
      "  (1, 431)\t1\n",
      "  (1, 1035)\t1\n",
      "  (1, 1206)\t1\n",
      "  (1, 1605)\t1\n",
      "  (1, 1733)\t1\n",
      "  (1, 1777)\t1\n",
      "  (1, 1813)\t1\n",
      "  (1, 1837)\t1\n",
      "  (1, 1862)\t1\n",
      "  (1, 1875)\t1\n",
      "  (1, 2567)\t1\n",
      "  (1, 2638)\t2\n",
      "  (1, 2905)\t1\n",
      "  (1, 2917)\t1\n",
      "  :\t:\n",
      "  (744, 2658)\t1\n",
      "  (744, 2812)\t1\n",
      "  (744, 2886)\t1\n",
      "  (744, 2917)\t1\n",
      "  (744, 3003)\t1\n",
      "  (745, 837)\t1\n",
      "  (745, 1358)\t1\n",
      "  (745, 1423)\t1\n",
      "  (745, 1428)\t1\n",
      "  (745, 3001)\t1\n",
      "  (746, 222)\t1\n",
      "  (746, 911)\t1\n",
      "  (747, 100)\t2\n",
      "  (747, 123)\t1\n",
      "  (747, 125)\t1\n",
      "  (747, 1316)\t1\n",
      "  (747, 1358)\t1\n",
      "  (747, 1393)\t1\n",
      "  (747, 1397)\t1\n",
      "  (747, 1430)\t1\n",
      "  (747, 1725)\t1\n",
      "  (747, 1837)\t1\n",
      "  (747, 1854)\t1\n",
      "  (747, 2694)\t1\n",
      "  (747, 2921)\t1\n"
     ]
    }
   ],
   "source": [
    "print(X)"
   ]
  },
  {
   "cell_type": "code",
   "execution_count": 14,
   "id": "0a6ea71f",
   "metadata": {},
   "outputs": [],
   "source": [
    "from sklearn.model_selection import train_test_split\n",
    "\n",
    "X_train, X_test, Y_train, Y_test=train_test_split(X,Y,test_size=0.2,random_state=10)\n",
    "\n"
   ]
  },
  {
   "cell_type": "code",
   "execution_count": 16,
   "id": "14747283",
   "metadata": {},
   "outputs": [],
   "source": [
    "from sklearn.naive_bayes import BernoulliNB\n",
    "from sklearn.naive_bayes import MultinomialNB\n",
    "\n",
    "model=MultinomialNB(alpha=1)\n",
    "model.fit(X_train, Y_train)\n",
    "\n",
    "Y_pred=model.predict(X_test)"
   ]
  },
  {
   "cell_type": "code",
   "execution_count": 17,
   "id": "e7358de2",
   "metadata": {
    "collapsed": true
   },
   "outputs": [
    {
     "name": "stdout",
     "output_type": "stream",
     "text": [
      "[[59 14]\n",
      " [19 58]]\n",
      "0.78\n",
      "              precision    recall  f1-score   support\n",
      "\n",
      "           0       0.76      0.81      0.78        73\n",
      "           1       0.81      0.75      0.78        77\n",
      "\n",
      "    accuracy                           0.78       150\n",
      "   macro avg       0.78      0.78      0.78       150\n",
      "weighted avg       0.78      0.78      0.78       150\n",
      "\n"
     ]
    }
   ],
   "source": [
    "from sklearn.metrics import confusion_matrix, accuracy_score, classification_report\n",
    "\n",
    "print(confusion_matrix(Y_test,Y_pred))\n",
    "print(accuracy_score(Y_test,Y_pred))\n",
    "print(classification_report(Y_test,Y_pred))"
   ]
  },
  {
   "cell_type": "code",
   "execution_count": 20,
   "id": "75679950",
   "metadata": {},
   "outputs": [
    {
     "name": "stdout",
     "output_type": "stream",
     "text": [
      "[0]\n"
     ]
    }
   ],
   "source": [
    "test=[\"That was a horrible movie, a complete waste of time.\"]\n",
    "test=cv.transform(test)\n",
    "test_pred=model.predict(test)\n",
    "print(test_pred)"
   ]
  },
  {
   "cell_type": "code",
   "execution_count": 21,
   "id": "7cff9d59",
   "metadata": {},
   "outputs": [
    {
     "name": "stdout",
     "output_type": "stream",
     "text": [
      "[1]\n"
     ]
    }
   ],
   "source": [
    "test=[\"That was an awesome movie, also music was good.\"]\n",
    "test=cv.transform(test)\n",
    "test_pred=model.predict(test)\n",
    "print(test_pred)"
   ]
  },
  {
   "cell_type": "code",
   "execution_count": null,
   "id": "9f3faef8",
   "metadata": {},
   "outputs": [],
   "source": []
  }
 ],
 "metadata": {
  "kernelspec": {
   "display_name": "Python 3 (ipykernel)",
   "language": "python",
   "name": "python3"
  },
  "language_info": {
   "codemirror_mode": {
    "name": "ipython",
    "version": 3
   },
   "file_extension": ".py",
   "mimetype": "text/x-python",
   "name": "python",
   "nbconvert_exporter": "python",
   "pygments_lexer": "ipython3",
   "version": "3.9.7"
  }
 },
 "nbformat": 4,
 "nbformat_minor": 5
}
